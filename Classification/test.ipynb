{
 "cells": [
  {
   "cell_type": "code",
   "execution_count": 1,
   "metadata": {
    "collapsed": true
   },
   "outputs": [],
   "source": [
    "import math"
   ]
  },
  {
   "cell_type": "code",
   "execution_count": 18,
   "metadata": {
    "collapsed": false
   },
   "outputs": [
    {
     "name": "stdout",
     "output_type": "stream",
     "text": [
      "[0.9241418199787566, 0.574442516811659, 0.9426758241011313, 0.6224593312018546]\n",
      "[0.07585818002124345, -0.574442516811659, 0.057324175898868734, 0.3775406687981454]\n",
      "-0.0637194920934\n"
     ]
    }
   ],
   "source": [
    "s = [2.5, 0.3, 2.8, 0.5]\n",
    "y = [1,0,1,1]\n",
    "b=[]\n",
    "for x in range(len(s)):\n",
    "    if y[x] == 1 :\n",
    "        b.append(1.0/(1 + math.exp(-s[x])))\n",
    "    else :\n",
    "        b.append(1 - 1.0/(1 + math.exp(-s[x])))\n",
    "print b\n",
    "product = 1  \n",
    "for x in b:\n",
    "    product *= x\n",
    "product\n",
    "\n",
    "for i in range(len(b)):\n",
    "    y[i] = y[i] - b[i]\n",
    "\n",
    "print y\n",
    "dl = sum(y)\n",
    "print dl"
   ]
  },
  {
   "cell_type": "code",
   "execution_count": 21,
   "metadata": {
    "collapsed": false
   },
   "outputs": [
    {
     "name": "stdout",
     "output_type": "stream",
     "text": [
      "[0.9241418199787566, 0.42555748318834097, 0.9426758241011313, 0.6224593312018546]\n",
      "0.230765141474\n",
      "[0.07585818002124345, -0.574442516811659, 0.057324175898868734, 0.3775406687981454]\n",
      "-0.0637194920934\n"
     ]
    }
   ],
   "source": [
    "s = [2.5, 0.3, 2.8, 0.5]\n",
    "y = [1,0,1,1]\n",
    "b=[]\n",
    "for x in range(len(s)):\n",
    "    if y[x] == 1 :\n",
    "        b.append(1.0/(1 + math.exp(-s[x])))\n",
    "    else :\n",
    "        b.append(1 - 1.0/(1 + math.exp(-s[x])))\n",
    "print b\n",
    "product = 1  \n",
    "for x in b:\n",
    "    product *= x\n",
    "print product\n",
    "\n",
    "for i in range(len(b)):\n",
    "    if y[i] == 1:\n",
    "        y[i] = y[i] - b[i]\n",
    "    else :\n",
    "        y[i] = y[i] - (1 - b[i])\n",
    "\n",
    "print y\n",
    "dl = sum(y)\n",
    "print dl"
   ]
  },
  {
   "cell_type": "code",
   "execution_count": null,
   "metadata": {
    "collapsed": true
   },
   "outputs": [],
   "source": []
  }
 ],
 "metadata": {
  "kernelspec": {
   "display_name": "Python 2",
   "language": "python",
   "name": "python2"
  },
  "language_info": {
   "codemirror_mode": {
    "name": "ipython",
    "version": 2
   },
   "file_extension": ".py",
   "mimetype": "text/x-python",
   "name": "python",
   "nbconvert_exporter": "python",
   "pygments_lexer": "ipython2",
   "version": "2.7.11"
  }
 },
 "nbformat": 4,
 "nbformat_minor": 0
}
